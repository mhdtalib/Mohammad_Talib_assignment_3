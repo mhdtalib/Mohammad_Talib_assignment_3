{
 "cells": [
  {
   "cell_type": "markdown",
   "id": "087aaef7",
   "metadata": {},
   "source": [
    "# Write a Python function to sum all the numbers in a list"
   ]
  },
  {
   "cell_type": "code",
   "execution_count": 1,
   "id": "f17dfad7",
   "metadata": {},
   "outputs": [
    {
     "name": "stdout",
     "output_type": "stream",
     "text": [
      "20\n"
     ]
    }
   ],
   "source": [
    "def sum(number_of_list):\n",
    "    Total_sum = 0\n",
    "    for x in number_of_list:\n",
    "        Total_sum += x\n",
    "    return Total_sum\n",
    "\n",
    "print(sum((8,2,3,0,7)))"
   ]
  },
  {
   "cell_type": "markdown",
   "id": "9447e39f",
   "metadata": {},
   "source": [
    "# Write a Python program to reverse a string."
   ]
  },
  {
   "cell_type": "code",
   "execution_count": 2,
   "id": "f11ab89e",
   "metadata": {},
   "outputs": [
    {
     "data": {
      "text/plain": [
       "'dcba4321'"
      ]
     },
     "execution_count": 2,
     "metadata": {},
     "output_type": "execute_result"
    }
   ],
   "source": [
    "def reverse(string):\n",
    "    if len(string) == 0:\n",
    "        return string\n",
    "    else:\n",
    "        return reverse(string[1:]) + string[0]\n",
    "\n",
    "reverse(\"1234abcd\")"
   ]
  },
  {
   "cell_type": "markdown",
   "id": "8957cb53",
   "metadata": {},
   "source": [
    "# Write a Python function that accepts a string and calculate the number of upper case letters and lower case letters."
   ]
  },
  {
   "cell_type": "code",
   "execution_count": null,
   "id": "f9305a18",
   "metadata": {},
   "outputs": [],
   "source": [
    "any_letter=input(\"Enter any string:\\t\")\n",
    "count_lower=0\n",
    "count_upper=0\n",
    "for i in any_letter:\n",
    "    if(i.islower()):\n",
    "            count_lower=count_lower+1\n",
    "    elif(i.isupper()):\n",
    "            count_upper=count_upper+1\n",
    "\n",
    "print(\"The number of uppercase characters is:\")\n",
    "print(count_upper)            \n",
    "print(\"The number of lowercase characters is:\")\n",
    "print(count_lower)"
   ]
  },
  {
   "cell_type": "code",
   "execution_count": null,
   "id": "c9da3c0e",
   "metadata": {},
   "outputs": [],
   "source": []
  }
 ],
 "metadata": {
  "kernelspec": {
   "display_name": "Python 3 (ipykernel)",
   "language": "python",
   "name": "python3"
  },
  "language_info": {
   "codemirror_mode": {
    "name": "ipython",
    "version": 3
   },
   "file_extension": ".py",
   "mimetype": "text/x-python",
   "name": "python",
   "nbconvert_exporter": "python",
   "pygments_lexer": "ipython3",
   "version": "3.9.5"
  }
 },
 "nbformat": 4,
 "nbformat_minor": 5
}
